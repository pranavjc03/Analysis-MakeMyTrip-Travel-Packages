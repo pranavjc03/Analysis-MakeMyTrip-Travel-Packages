{
 "cells": [
  {
   "cell_type": "code",
   "execution_count": 3,
   "id": "d7dc39bb",
   "metadata": {},
   "outputs": [
    {
     "ename": "ParserError",
     "evalue": "Error tokenizing data. C error: Expected 22 fields in line 22, saw 25\n",
     "output_type": "error",
     "traceback": [
      "\u001b[1;31m---------------------------------------------------------------------------\u001b[0m",
      "\u001b[1;31mParserError\u001b[0m                               Traceback (most recent call last)",
      "Cell \u001b[1;32mIn[3], line 5\u001b[0m\n\u001b[0;32m      3\u001b[0m \u001b[38;5;66;03m# Load the dataset\u001b[39;00m\n\u001b[0;32m      4\u001b[0m file_path \u001b[38;5;241m=\u001b[39m \u001b[38;5;124m'\u001b[39m\u001b[38;5;124mmakemytrip.csv\u001b[39m\u001b[38;5;124m'\u001b[39m\n\u001b[1;32m----> 5\u001b[0m makemytrip_data \u001b[38;5;241m=\u001b[39m \u001b[43mpd\u001b[49m\u001b[38;5;241;43m.\u001b[39;49m\u001b[43mread_csv\u001b[49m\u001b[43m(\u001b[49m\u001b[43mfile_path\u001b[49m\u001b[43m)\u001b[49m\n\u001b[0;32m      7\u001b[0m \u001b[38;5;66;03m# Attempting to load the dataset again with error_bad_lines set to False\u001b[39;00m\n\u001b[0;32m      8\u001b[0m \u001b[38;5;28;01mtry\u001b[39;00m:\n",
      "File \u001b[1;32mc:\\Users\\raman\\anaconda3\\lib\\site-packages\\pandas\\util\\_decorators.py:211\u001b[0m, in \u001b[0;36mdeprecate_kwarg.<locals>._deprecate_kwarg.<locals>.wrapper\u001b[1;34m(*args, **kwargs)\u001b[0m\n\u001b[0;32m    209\u001b[0m     \u001b[38;5;28;01melse\u001b[39;00m:\n\u001b[0;32m    210\u001b[0m         kwargs[new_arg_name] \u001b[38;5;241m=\u001b[39m new_arg_value\n\u001b[1;32m--> 211\u001b[0m \u001b[38;5;28;01mreturn\u001b[39;00m func(\u001b[38;5;241m*\u001b[39margs, \u001b[38;5;241m*\u001b[39m\u001b[38;5;241m*\u001b[39mkwargs)\n",
      "File \u001b[1;32mc:\\Users\\raman\\anaconda3\\lib\\site-packages\\pandas\\util\\_decorators.py:331\u001b[0m, in \u001b[0;36mdeprecate_nonkeyword_arguments.<locals>.decorate.<locals>.wrapper\u001b[1;34m(*args, **kwargs)\u001b[0m\n\u001b[0;32m    325\u001b[0m \u001b[38;5;28;01mif\u001b[39;00m \u001b[38;5;28mlen\u001b[39m(args) \u001b[38;5;241m>\u001b[39m num_allow_args:\n\u001b[0;32m    326\u001b[0m     warnings\u001b[38;5;241m.\u001b[39mwarn(\n\u001b[0;32m    327\u001b[0m         msg\u001b[38;5;241m.\u001b[39mformat(arguments\u001b[38;5;241m=\u001b[39m_format_argument_list(allow_args)),\n\u001b[0;32m    328\u001b[0m         \u001b[38;5;167;01mFutureWarning\u001b[39;00m,\n\u001b[0;32m    329\u001b[0m         stacklevel\u001b[38;5;241m=\u001b[39mfind_stack_level(),\n\u001b[0;32m    330\u001b[0m     )\n\u001b[1;32m--> 331\u001b[0m \u001b[38;5;28;01mreturn\u001b[39;00m func(\u001b[38;5;241m*\u001b[39margs, \u001b[38;5;241m*\u001b[39m\u001b[38;5;241m*\u001b[39mkwargs)\n",
      "File \u001b[1;32mc:\\Users\\raman\\anaconda3\\lib\\site-packages\\pandas\\io\\parsers\\readers.py:950\u001b[0m, in \u001b[0;36mread_csv\u001b[1;34m(filepath_or_buffer, sep, delimiter, header, names, index_col, usecols, squeeze, prefix, mangle_dupe_cols, dtype, engine, converters, true_values, false_values, skipinitialspace, skiprows, skipfooter, nrows, na_values, keep_default_na, na_filter, verbose, skip_blank_lines, parse_dates, infer_datetime_format, keep_date_col, date_parser, dayfirst, cache_dates, iterator, chunksize, compression, thousands, decimal, lineterminator, quotechar, quoting, doublequote, escapechar, comment, encoding, encoding_errors, dialect, error_bad_lines, warn_bad_lines, on_bad_lines, delim_whitespace, low_memory, memory_map, float_precision, storage_options)\u001b[0m\n\u001b[0;32m    935\u001b[0m kwds_defaults \u001b[38;5;241m=\u001b[39m _refine_defaults_read(\n\u001b[0;32m    936\u001b[0m     dialect,\n\u001b[0;32m    937\u001b[0m     delimiter,\n\u001b[1;32m   (...)\u001b[0m\n\u001b[0;32m    946\u001b[0m     defaults\u001b[38;5;241m=\u001b[39m{\u001b[38;5;124m\"\u001b[39m\u001b[38;5;124mdelimiter\u001b[39m\u001b[38;5;124m\"\u001b[39m: \u001b[38;5;124m\"\u001b[39m\u001b[38;5;124m,\u001b[39m\u001b[38;5;124m\"\u001b[39m},\n\u001b[0;32m    947\u001b[0m )\n\u001b[0;32m    948\u001b[0m kwds\u001b[38;5;241m.\u001b[39mupdate(kwds_defaults)\n\u001b[1;32m--> 950\u001b[0m \u001b[38;5;28;01mreturn\u001b[39;00m \u001b[43m_read\u001b[49m\u001b[43m(\u001b[49m\u001b[43mfilepath_or_buffer\u001b[49m\u001b[43m,\u001b[49m\u001b[43m \u001b[49m\u001b[43mkwds\u001b[49m\u001b[43m)\u001b[49m\n",
      "File \u001b[1;32mc:\\Users\\raman\\anaconda3\\lib\\site-packages\\pandas\\io\\parsers\\readers.py:611\u001b[0m, in \u001b[0;36m_read\u001b[1;34m(filepath_or_buffer, kwds)\u001b[0m\n\u001b[0;32m    608\u001b[0m     \u001b[38;5;28;01mreturn\u001b[39;00m parser\n\u001b[0;32m    610\u001b[0m \u001b[38;5;28;01mwith\u001b[39;00m parser:\n\u001b[1;32m--> 611\u001b[0m     \u001b[38;5;28;01mreturn\u001b[39;00m \u001b[43mparser\u001b[49m\u001b[38;5;241;43m.\u001b[39;49m\u001b[43mread\u001b[49m\u001b[43m(\u001b[49m\u001b[43mnrows\u001b[49m\u001b[43m)\u001b[49m\n",
      "File \u001b[1;32mc:\\Users\\raman\\anaconda3\\lib\\site-packages\\pandas\\io\\parsers\\readers.py:1778\u001b[0m, in \u001b[0;36mTextFileReader.read\u001b[1;34m(self, nrows)\u001b[0m\n\u001b[0;32m   1771\u001b[0m nrows \u001b[38;5;241m=\u001b[39m validate_integer(\u001b[38;5;124m\"\u001b[39m\u001b[38;5;124mnrows\u001b[39m\u001b[38;5;124m\"\u001b[39m, nrows)\n\u001b[0;32m   1772\u001b[0m \u001b[38;5;28;01mtry\u001b[39;00m:\n\u001b[0;32m   1773\u001b[0m     \u001b[38;5;66;03m# error: \"ParserBase\" has no attribute \"read\"\u001b[39;00m\n\u001b[0;32m   1774\u001b[0m     (\n\u001b[0;32m   1775\u001b[0m         index,\n\u001b[0;32m   1776\u001b[0m         columns,\n\u001b[0;32m   1777\u001b[0m         col_dict,\n\u001b[1;32m-> 1778\u001b[0m     ) \u001b[38;5;241m=\u001b[39m \u001b[38;5;28;43mself\u001b[39;49m\u001b[38;5;241;43m.\u001b[39;49m\u001b[43m_engine\u001b[49m\u001b[38;5;241;43m.\u001b[39;49m\u001b[43mread\u001b[49m\u001b[43m(\u001b[49m\u001b[43m  \u001b[49m\u001b[38;5;66;43;03m# type: ignore[attr-defined]\u001b[39;49;00m\n\u001b[0;32m   1779\u001b[0m \u001b[43m        \u001b[49m\u001b[43mnrows\u001b[49m\n\u001b[0;32m   1780\u001b[0m \u001b[43m    \u001b[49m\u001b[43m)\u001b[49m\n\u001b[0;32m   1781\u001b[0m \u001b[38;5;28;01mexcept\u001b[39;00m \u001b[38;5;167;01mException\u001b[39;00m:\n\u001b[0;32m   1782\u001b[0m     \u001b[38;5;28mself\u001b[39m\u001b[38;5;241m.\u001b[39mclose()\n",
      "File \u001b[1;32mc:\\Users\\raman\\anaconda3\\lib\\site-packages\\pandas\\io\\parsers\\c_parser_wrapper.py:230\u001b[0m, in \u001b[0;36mCParserWrapper.read\u001b[1;34m(self, nrows)\u001b[0m\n\u001b[0;32m    228\u001b[0m \u001b[38;5;28;01mtry\u001b[39;00m:\n\u001b[0;32m    229\u001b[0m     \u001b[38;5;28;01mif\u001b[39;00m \u001b[38;5;28mself\u001b[39m\u001b[38;5;241m.\u001b[39mlow_memory:\n\u001b[1;32m--> 230\u001b[0m         chunks \u001b[38;5;241m=\u001b[39m \u001b[38;5;28;43mself\u001b[39;49m\u001b[38;5;241;43m.\u001b[39;49m\u001b[43m_reader\u001b[49m\u001b[38;5;241;43m.\u001b[39;49m\u001b[43mread_low_memory\u001b[49m\u001b[43m(\u001b[49m\u001b[43mnrows\u001b[49m\u001b[43m)\u001b[49m\n\u001b[0;32m    231\u001b[0m         \u001b[38;5;66;03m# destructive to chunks\u001b[39;00m\n\u001b[0;32m    232\u001b[0m         data \u001b[38;5;241m=\u001b[39m _concatenate_chunks(chunks)\n",
      "File \u001b[1;32mc:\\Users\\raman\\anaconda3\\lib\\site-packages\\pandas\\_libs\\parsers.pyx:808\u001b[0m, in \u001b[0;36mpandas._libs.parsers.TextReader.read_low_memory\u001b[1;34m()\u001b[0m\n",
      "File \u001b[1;32mc:\\Users\\raman\\anaconda3\\lib\\site-packages\\pandas\\_libs\\parsers.pyx:866\u001b[0m, in \u001b[0;36mpandas._libs.parsers.TextReader._read_rows\u001b[1;34m()\u001b[0m\n",
      "File \u001b[1;32mc:\\Users\\raman\\anaconda3\\lib\\site-packages\\pandas\\_libs\\parsers.pyx:852\u001b[0m, in \u001b[0;36mpandas._libs.parsers.TextReader._tokenize_rows\u001b[1;34m()\u001b[0m\n",
      "File \u001b[1;32mc:\\Users\\raman\\anaconda3\\lib\\site-packages\\pandas\\_libs\\parsers.pyx:1973\u001b[0m, in \u001b[0;36mpandas._libs.parsers.raise_parser_error\u001b[1;34m()\u001b[0m\n",
      "\u001b[1;31mParserError\u001b[0m: Error tokenizing data. C error: Expected 22 fields in line 22, saw 25\n"
     ]
    }
   ],
   "source": [
    "import pandas as pd\n",
    "\n",
    "# Load the dataset\n",
    "file_path = 'makemytrip.csv'\n",
    "makemytrip_data = pd.read_csv(file_path)\n",
    "\n",
    "# Attempting to load the dataset again with error_bad_lines set to False\n",
    "try:\n",
    "    makemytrip_data = pd.read_csv(file_path, error_bad_lines=False)\n",
    "    dataset_info = makemytrip_data.info()\n",
    "    dataset_head = makemytrip_data.head()\n",
    "except Exception as e:\n",
    "    error_message = str(e)\n",
    "    dataset_info, dataset_head, error_message = None, None, error_message\n",
    "\n",
    "dataset_info, dataset_head, error_message if error_message else \"Loaded successfully\""
   ]
  },
  {
   "cell_type": "code",
   "execution_count": 2,
   "id": "4a601c48",
   "metadata": {},
   "outputs": [
    {
     "name": "stderr",
     "output_type": "stream",
     "text": [
      "C:\\Users\\raman\\AppData\\Local\\Temp\\ipykernel_2288\\1623368405.py:3: FutureWarning: The error_bad_lines argument has been deprecated and will be removed in a future version. Use on_bad_lines in the future.\n",
      "\n",
      "\n",
      "  makemytrip_data = pd.read_csv(file_path, error_bad_lines=False)\n"
     ]
    },
    {
     "data": {
      "text/plain": [
       "(None, None, \"[Errno 2] No such file or directory: 'makemytrip.csv.csv'\")"
      ]
     },
     "execution_count": 2,
     "metadata": {},
     "output_type": "execute_result"
    }
   ],
   "source": [
    "# Attempting to load the dataset again with error_bad_lines set to False\n",
    "try:\n",
    "    makemytrip_data = pd.read_csv(file_path, error_bad_lines=False)\n",
    "    dataset_info = makemytrip_data.info()\n",
    "    dataset_head = makemytrip_data.head()\n",
    "except Exception as e:\n",
    "    error_message = str(e)\n",
    "    dataset_info, dataset_head, error_message = None, None, error_message\n",
    "\n",
    "dataset_info, dataset_head, error_message if error_message else \"Loaded successfully\""
   ]
  },
  {
   "cell_type": "code",
   "execution_count": 3,
   "id": "8109a32c",
   "metadata": {},
   "outputs": [],
   "source": [
    "# Step 1: Data Cleaning\n",
    "# Dropping columns with a high percentage of missing values\n",
    "columns_to_drop = ['Flight Stops', 'Meals', 'Initial Payment For Booking', 'Date Change Rules']\n",
    "makemytrip_data_cleaned = makemytrip_data.drop(columns=columns_to_drop)\n",
    "\n",
    "# Step 2: Data Type Correction\n",
    "# Converting 'Crawl Timestamp' and 'Travel Date' to datetime format\n",
    "makemytrip_data_cleaned['Crawl Timestamp'] = pd.to_datetime(makemytrip_data_cleaned['Crawl Timestamp'], errors='coerce')\n",
    "makemytrip_data_cleaned['Travel Date'] = pd.to_datetime(makemytrip_data_cleaned['Travel Date'], errors='coerce')\n",
    "\n",
    "# Displaying basic information and first few rows of the cleaned data\n",
    "cleaned_data_info = makemytrip_data_cleaned.info()\n",
    "cleaned_data_head = makemytrip_data_cleaned.head()\n",
    "\n",
    "cleaned_data_info, cleaned_data_head"
   ]
  },
  {
   "cell_type": "code",
   "execution_count": 4,
   "id": "de3799bb",
   "metadata": {},
   "outputs": [],
   "source": [
    "import matplotlib.pyplot as plt\n",
    "import seaborn as sns\n",
    "\n",
    "# Setting up the plotting style\n",
    "sns.set(style=\"whitegrid\")\n",
    "\n",
    "# 1. Package Type Distribution\n",
    "plt.figure(figsize=(12, 6))\n",
    "sns.countplot(y='Package Type', data=makemytrip_data_cleaned, order = makemytrip_data_cleaned['Package Type'].value_counts().index)\n",
    "plt.title('Distribution of Package Types')\n",
    "plt.xlabel('Count')\n",
    "plt.ylabel('Package Type')\n",
    "plt.tight_layout()\n",
    "plt.show()\n",
    "\n",
    "# 2. Top Destinations Analysis\n",
    "top_destinations = makemytrip_data_cleaned['Destination'].value_counts().head(10) # top 10 destinations\n",
    "plt.figure(figsize=(12, 6))\n",
    "sns.barplot(x=top_destinations.values, y=top_destinations.index)\n",
    "plt.title('Top 10 Destinations')\n",
    "plt.xlabel('Count')\n",
    "plt.ylabel('Destination')\n",
    "plt.tight_layout()\n",
    "plt.show()\n",
    "\n",
    "# 3. Price Analysis\n",
    "plt.figure(figsize=(12, 6))\n",
    "sns.histplot(makemytrip_data_cleaned['Price Per Two Persons'], bins=50, kde=True)\n",
    "plt.title('Distribution of Price Per Two Persons')\n",
    "plt.xlabel('Price Per Two Persons')\n",
    "plt.ylabel('Frequency')\n",
    "plt.tight_layout()\n",
    "plt.show()\n",
    "\n",
    "plt.figure(figsize=(12, 6))\n",
    "sns.histplot(makemytrip_data_cleaned['Per Person Price'], bins=50, kde=True)\n",
    "plt.title('Distribution of Per Person Price')\n",
    "plt.xlabel('Per Person Price')\n",
    "plt.ylabel('Frequency')\n",
    "plt.tight_layout()\n",
    "plt.show()"
   ]
  },
  {
   "cell_type": "code",
   "execution_count": 5,
   "id": "b8c7b4eb",
   "metadata": {},
   "outputs": [],
   "source": [
    "# Analyzing the distribution of different package types\n",
    "package_type_distribution = makemytrip_data_cleaned['Package Type'].value_counts()\n",
    "\n",
    "package_type_distribution"
   ]
  },
  {
   "cell_type": "code",
   "execution_count": 6,
   "id": "dba2235d",
   "metadata": {},
   "outputs": [],
   "source": [
    "# Analyzing the most common destinations\n",
    "top_destinations = makemytrip_data_cleaned['Destination'].value_counts().head(10) # Top 10 destinations\n",
    "\n",
    "top_destinations"
   ]
  },
  {
   "cell_type": "code",
   "execution_count": 7,
   "id": "32eac858",
   "metadata": {},
   "outputs": [],
   "source": [
    "# Descriptive statistics for 'Price Per Two Persons' and 'Per Person Price'\n",
    "price_two_persons_stats = makemytrip_data_cleaned['Price Per Two Persons'].describe()\n",
    "per_person_price_stats = makemytrip_data_cleaned['Per Person Price'].describe()\n",
    "\n",
    "price_two_persons_stats, per_person_price_stats"
   ]
  },
  {
   "cell_type": "code",
   "execution_count": 8,
   "id": "385cd05b",
   "metadata": {},
   "outputs": [],
   "source": [
    "# Dropping irrelevant columns: 'Crawl Timestamp', 'Page Url', 'Uniq Id'\n",
    "makemytrip_data_cleaned = makemytrip_data.drop(columns=['Crawl Timestamp', 'Page Url', 'Uniq Id'])\n",
    "\n",
    "# Displaying the updated dataframe structure\n",
    "makemytrip_data_cleaned.info()"
   ]
  },
  {
   "cell_type": "code",
   "execution_count": 9,
   "id": "3a23b3ea",
   "metadata": {},
   "outputs": [],
   "source": [
    "from sklearn.preprocessing import MultiLabelBinarizer\n",
    "\n",
    "# Splitting the 'Destination' column into a list of destinations\n",
    "makemytrip_data_cleaned['Destination'] = makemytrip_data_cleaned['Destination'].apply(lambda x: x.split('|'))\n",
    "\n",
    "# Applying one-hot encoding\n",
    "mlb = MultiLabelBinarizer()\n",
    "destination_encoded = mlb.fit_transform(makemytrip_data_cleaned['Destination'])\n",
    "\n",
    "# Creating a DataFrame from the encoded array\n",
    "destination_encoded_df = pd.DataFrame(destination_encoded, columns=mlb.classes_)\n",
    "\n",
    "# Displaying the shape and first few rows of the new DataFrame\n",
    "destination_encoded_df_shape = destination_encoded_df.shape\n",
    "destination_encoded_df_head = destination_encoded_df.head()\n",
    "\n",
    "destination_encoded_df_shape, destination_encoded_df_head"
   ]
  },
  {
   "cell_type": "code",
   "execution_count": 10,
   "id": "15da1ee7",
   "metadata": {},
   "outputs": [],
   "source": [
    "# Filling missing values for specific columns\n",
    "\n",
    "# For 'Hotel Details' and 'Airline', we'll replace missing values with 'Not Specified'\n",
    "makemytrip_data_cleaned['Hotel Details'].fillna('Not Specified', inplace=True)\n",
    "makemytrip_data_cleaned['Airline'].fillna('Not Specified', inplace=True)\n",
    "\n",
    "# For 'Sightseeing Places Covered', we'll also use 'Not Specified'\n",
    "makemytrip_data_cleaned['Sightseeing Places Covered'].fillna('Not Specified', inplace=True)\n",
    "\n",
    "# For 'Cancellation Rules', using 'Not Specified' as well\n",
    "makemytrip_data_cleaned['Cancellation Rules'].fillna('Not Specified', inplace=True)\n",
    "\n",
    "# Checking the dataset after filling missing values\n",
    "makemytrip_data_cleaned.isnull().sum()  # Displaying the count of missing values for each column after filling missing values"
   ]
  },
  {
   "cell_type": "code",
   "execution_count": 11,
   "id": "242f35b0",
   "metadata": {},
   "outputs": [],
   "source": [
    "# Dropping columns with all missing values: 'Meals', 'Flight Stops', 'Initial Payment For Booking', 'Date Change Rules'\n",
    "columns_to_drop = ['Meals', 'Flight Stops', 'Initial Payment For Booking', 'Date Change Rules']\n",
    "makemytrip_data_cleaned.drop(columns=columns_to_drop, inplace=True)\n",
    "\n",
    "# Checking the updated structure of the dataset\n",
    "updated_dataset_info = makemytrip_data_cleaned.info()\n",
    "updated_dataset_info"
   ]
  },
  {
   "cell_type": "code",
   "execution_count": 12,
   "id": "66d2c706",
   "metadata": {},
   "outputs": [],
   "source": [
    "# Dropping the 'Onwards Return Flight Time' column\n",
    "makemytrip_data_cleaned.drop(columns=['Onwards Return Flight Time'], inplace=True)\n",
    "\n",
    "# Checking the updated structure of the dataset\n",
    "updated_dataset_info_after_drop = makemytrip_data_cleaned.info()\n",
    "updated_dataset_info_after_drop"
   ]
  },
  {
   "cell_type": "code",
   "execution_count": 13,
   "id": "abcc1cf4",
   "metadata": {},
   "outputs": [],
   "source": [
    "# Re-applying one-hot encoding for the 'Destination' column after dataset updates\n",
    "destination_encoded_again = mlb.transform(makemytrip_data_cleaned['Destination'])\n",
    "\n",
    "# Creating a DataFrame from the encoded array\n",
    "destination_encoded_df_again = pd.DataFrame(destination_encoded_again, columns=mlb.classes_)\n",
    "\n",
    "# Displaying the shape and first few rows of the new DataFrame\n",
    "destination_encoded_df_shape_again = destination_encoded_df_again.shape\n",
    "destination_encoded_df_head_again = destination_encoded_df_again.head()\n",
    "\n",
    "destination_encoded_df_shape_again, destination_encoded_df_head_again"
   ]
  },
  {
   "cell_type": "code",
   "execution_count": 14,
   "id": "353ad8c5",
   "metadata": {},
   "outputs": [],
   "source": [
    "# Recreating the MultiLabelBinarizer object and reapplying one-hot encoding for 'Destination'\n",
    "mlb_recreated = MultiLabelBinarizer()\n",
    "destination_encoded_recreated = mlb_recreated.fit_transform(makemytrip_data_cleaned['Destination'])\n",
    "\n",
    "# Creating a DataFrame from the newly encoded array\n",
    "destination_encoded_df_recreated = pd.DataFrame(destination_encoded_recreated, columns=mlb_recreated.classes_)\n",
    "\n",
    "# Displaying the shape and first few rows of the new DataFrame\n",
    "destination_encoded_df_shape_recreated = destination_encoded_df_recreated.shape\n",
    "destination_encoded_df_head_recreated = destination_encoded_df_recreated.head()\n",
    "\n",
    "destination_encoded_df_shape_recreated, destination_encoded_df_head_recreated"
   ]
  },
  {
   "cell_type": "code",
   "execution_count": 15,
   "id": "37204f03",
   "metadata": {},
   "outputs": [],
   "source": [
    "# Saving the current state of the notebook as an .ipynb file\n",
    "\n",
    "notebook_name = \"makemytrip_data_analysis.ipynb\"\n",
    "\n",
    "# Writing current notebook to file\n",
    "%notebook \"/mnt/data/{notebook_name}\"\n",
    "\n",
    "# Providing the link to the user\n",
    "notebook_link = f\"/mnt/data/{notebook_name}\"\n",
    "notebook_link"
   ]
  }
 ],
 "metadata": {
  "kernelspec": {
   "display_name": "base",
   "language": "python",
   "name": "python3"
  },
  "language_info": {
   "codemirror_mode": {
    "name": "ipython",
    "version": 3
   },
   "file_extension": ".py",
   "mimetype": "text/x-python",
   "name": "python",
   "nbconvert_exporter": "python",
   "pygments_lexer": "ipython3",
   "version": "3.10.9"
  }
 },
 "nbformat": 4,
 "nbformat_minor": 5
}
